{
  "nbformat": 4,
  "nbformat_minor": 0,
  "metadata": {
    "kernelspec": {
      "name": "python3",
      "display_name": "Python 3"
    },
    "colab": {
      "name": "Assign5.ipynb",
      "provenance": [],
      "collapsed_sections": [
        "buWQYLMKxheM",
        "NKpfky5axheM",
        "6FNKHGGqxheM",
        "ofcv6V_bxheO",
        "dEaF18WyxheP",
        "8Vzh1E-YxheQ",
        "-cEHSsQKxheQ",
        "l8cTOsTLxheQ",
        "D41lC18-xheQ",
        "PdhpMJVuxheQ",
        "tw0Gof6RxheQ",
        "ynicDVWCxheQ"
      ]
    },
    "accelerator": "GPU"
  },
  "cells": [
    {
      "cell_type": "markdown",
      "metadata": {
        "id": "cw0CpAQYxheI"
      },
      "source": [
        "# Assignment #5 - Deep Learning (Extra Credits)\n",
        "\n",
        "### <font color=\"red\"> DUE: Dec 7 (Monday) 11:00 pm </font>  "
      ]
    },
    {
      "cell_type": "markdown",
      "metadata": {
        "id": "3UnI06tDxheJ"
      },
      "source": [
        "<font color=\"blue\"> Apnav Poptani </font>"
      ]
    },
    {
      "cell_type": "markdown",
      "metadata": {
        "id": "Txwxn8_8xheJ"
      },
      "source": [
        "# I. Overview\n",
        "\n",
        "Describe the objective of this assignment. You can briefly state how you accompilsh it."
      ]
    },
    {
      "cell_type": "markdown",
      "metadata": {
        "id": "8rzcoEzYxheJ"
      },
      "source": [
        "# II. Data\n",
        "\n",
        "## A. Description\n",
        "\n",
        "   The dataset used here for classification is default of credit card clients Data Set from Kaggle datasets. The dataset consists of 30000+ data samples and 24 feature values. The data here classifies default payments in Taiwan and compares the predictive accuracy of probability of default among six data mining methods.\n",
        "<br>\n",
        "LIMIT_BAL = Amount of the given credit (NT dollar): it includes both the individual consumer credit and his/her family (supplementary) credit\n",
        "<br>\n",
        "SEX = Gender (1 = male; 2 = female)\n",
        "<br>\n",
        "EDUCATION = Education (1 = graduate school; 2 = university; 3 = high school; 4 = others)\n",
        "<br>\n",
        "MARRIAGE = Marital status (1 = married; 2 = single; 3 = others)\n",
        "<br>\n",
        "AGE = Age (year)\n",
        "<br>\n",
        "History of past payment (The measurement scale for the repayment status is: -1 = pay duly; 1 = payment delay for one month; 2 = payment delay for two months; 3 = payment delay for three months ;4 = payment delay for four months; 5 = payment delay for five months;6 = payment delay for six months; 7 = payment delay for seven months;8 = payment delay for eight months; 9 = payment delay for nine months and above)\n",
        "<br>\n",
        "PAY_0 = the repayment status in September, 2005\n",
        "<br>\n",
        "PAY_2 = the repayment status in August, 2005\n",
        "<br>\n",
        "PAY_3 = the repayment status in July, 2005\n",
        "<br>\n",
        "PAY_4 = the repayment status in June, 2005\n",
        "<br>\n",
        "PAY_5 = the repayment status in May, 2005\n",
        "<br>\n",
        "PAY_6 = the repayment status in April, 2005\n",
        "<br>\n",
        "Amount of bill statement (NT dollar)\n",
        "<br>\n",
        "BILL_AMT1 = amount of bill statement in September, 2005\n",
        "<br>\n",
        "BILL_AMT2 = amount of bill statement in August, 2005\n",
        "<br>\n",
        "BILL_AMT3 = amount of bill statement in July, 2005\n",
        "<br>\n",
        "BILL_AMT4 = amount of bill statement in June, 2005\n",
        "<br>\n",
        "BILL_AMT5 = amount of bill statement in May, 2005\n",
        "<br>\n",
        "BILL_AMT6 = amount of bill statement in April, 2005\n",
        "<br>\n",
        "Amount of previous payment (NT dollar)\n",
        "<br>\n",
        "PAY_AMT1 = amount paid in September, 2005\n",
        "<br>\n",
        "PAY_AMT2 = amount paid in August, 2005\n",
        "<br>\n",
        "PAY_AMT3 = amount paid in July, 2005\n",
        "<br>\n",
        "PAY_AMT4 = amount paid in June, 2005\n",
        "<br>\n",
        "PAY_AMT5 = amount paid in May, 2005\n",
        "<br>\n",
        "PAY_AMT6 = amount paid in April, 2005\n",
        "<br>\n",
        "default payment next month (Yes = 1, No = 0)\n",
        "\n"
      ]
    },
    {
      "cell_type": "markdown",
      "metadata": {
        "id": "IRih-UN8xheJ"
      },
      "source": [
        "### Reading the Data \n",
        "\n",
        "Reading the .csv file."
      ]
    },
    {
      "cell_type": "code",
      "metadata": {
        "id": "ioZob9gZxheJ"
      },
      "source": [
        "import matplotlib.pyplot as plt\n",
        "import pandas as pd\n",
        "import seaborn as sns\n",
        "import warnings\n",
        "warnings.simplefilter(action='ignore', category=FutureWarning)\n",
        "\n",
        "dataset=pd.read_excel('default of credit card clients.xls')"
      ],
      "execution_count": 3,
      "outputs": []
    },
    {
      "cell_type": "code",
      "metadata": {
        "id": "jNRVkmQ26fwj"
      },
      "source": [
        "# from google.colab import files\n",
        "# uploaded = files.upload()"
      ],
      "execution_count": 4,
      "outputs": []
    },
    {
      "cell_type": "code",
      "metadata": {
        "id": "X3ij9KdO6lOk"
      },
      "source": [
        "# import io\n",
        "# dataset = pd.read_excel(io.BytesIO(uploaded['default of credit card clients.xls']))"
      ],
      "execution_count": 5,
      "outputs": []
    },
    {
      "cell_type": "markdown",
      "metadata": {
        "id": "Zv4vwEBlxheK"
      },
      "source": [
        "## B.Plots for Understanding or Analysis"
      ]
    },
    {
      "cell_type": "code",
      "metadata": {
        "id": "EIQ7PndpxheK",
        "colab": {
          "base_uri": "https://localhost:8080/",
          "height": 334
        },
        "outputId": "24c8089f-1495-493f-80b1-d6b9d7dec8f1"
      },
      "source": [
        "plt.rcParams[\"figure.figsize\"] = (8,5)\n",
        "sns.countplot(dataset['default payment next month'],label=\"Count\").set_xticklabels([\"No\", \"Yes\"])\n",
        "plt.show()"
      ],
      "execution_count": 6,
      "outputs": [
        {
          "output_type": "display_data",
          "data": {
            "image/png": "[encoded data removed]",
            "text/plain": [
              "<Figure size 576x360 with 1 Axes>"
            ]
          },
          "metadata": {
            "tags": [],
            "needs_background": "light"
          }
        }
      ]
    },
    {
      "cell_type": "markdown",
      "metadata": {
        "id": "KNGb4K59xheM"
      },
      "source": [
        "### Ratio of default payment next month\n",
        "This graph shows the count of sex with respect to default payment next month. It can be clearly seen that the graph for less number of users will be paying credit card payments on time."
      ]
    },
    {
      "cell_type": "code",
      "metadata": {
        "id": "V9b7novExheM",
        "colab": {
          "base_uri": "https://localhost:8080/",
          "height": 383
        },
        "outputId": "58403de9-a23d-49fd-dd92-f2f1ba60c30b"
      },
      "source": [
        "sns.catplot(x='SEX',y='default payment next month',data=dataset,kind='bar'\n",
        ").set_axis_labels(\"Sex\",\"default payment next month\").set_xticklabels([\"Men\", \"Women\"])\n",
        "plt.show()"
      ],
      "execution_count": 7,
      "outputs": [
        {
          "output_type": "display_data",
          "data": {
            "image/png": "[encoded data removed]",
            "text/plain": [
              "<Figure size 360x360 with 1 Axes>"
            ]
          },
          "metadata": {
            "tags": [],
            "needs_background": "light"
          }
        }
      ]
    },
    {
      "cell_type": "markdown",
      "metadata": {
        "id": "-rHSqvXUxheM"
      },
      "source": [
        "### Sex vs default payment next month\n",
        "This catplot shows the Gender ratio with default payment method. It can be seen that males have higher on-time payment ratio of females.\n",
        "​"
      ]
    },
    {
      "cell_type": "code",
      "metadata": {
        "id": "SPNz3mIwxheM",
        "colab": {
          "base_uri": "https://localhost:8080/",
          "height": 383
        },
        "outputId": "50042a31-b4af-4efa-91e3-bf5395881bb2"
      },
      "source": [
        "sns.catplot(x='EDUCATION',y='default payment next month',data=dataset,kind='bar').set_axis_labels(\"Education\",\"default payment next month\").set_xticklabels([\"Graduate school\",\"University\", \"High school\" , \"Others\"])\n",
        "plt.show()"
      ],
      "execution_count": 8,
      "outputs": [
        {
          "output_type": "display_data",
          "data": {
            "image/png": "[encoded data removed]",
            "text/plain": [
              "<Figure size 360x360 with 1 Axes>"
            ]
          },
          "metadata": {
            "tags": [],
            "needs_background": "light"
          }
        }
      ]
    },
    {
      "cell_type": "markdown",
      "metadata": {
        "id": "VrvbekdExheM"
      },
      "source": [
        "### Education vs default payment next month\n",
        "This catplot shows the effect of education on default payment next month, as it can be seen that with increase in education the default payment next month probability of the user also increases."
      ]
    },
    {
      "cell_type": "code",
      "metadata": {
        "id": "ruLZVqDLxheM",
        "colab": {
          "base_uri": "https://localhost:8080/",
          "height": 383
        },
        "outputId": "fb72c464-0c86-4971-ba1e-b0da46c22b24"
      },
      "source": [
        "sns.catplot(x='MARRIAGE',y='default payment next month',data=dataset,kind='bar').set_axis_labels(\"Marriage\",\"default payment next month\").set_xticklabels([\"Married\",\"Single\", \"Others\" ])\n",
        "plt.show()"
      ],
      "execution_count": 9,
      "outputs": [
        {
          "output_type": "display_data",
          "data": {
            "image/png": "[encoded data removed]",
            "text/plain": [
              "<Figure size 360x360 with 1 Axes>"
            ]
          },
          "metadata": {
            "tags": [],
            "needs_background": "light"
          }
        }
      ]
    },
    {
      "cell_type": "markdown",
      "metadata": {
        "id": "buWQYLMKxheM"
      },
      "source": [
        "### Marriage vs default payment next month\n",
        "This catplot shows the effect of marital status of an adult on his/her default payment next month,here it can be seen that adults who are married have greater probability of default payment next month."
      ]
    },
    {
      "cell_type": "code",
      "metadata": {
        "id": "o36QNCXBxheM",
        "colab": {
          "base_uri": "https://localhost:8080/",
          "height": 815
        },
        "outputId": "e9b055a1-a79a-4286-f38f-ecb6499ed6b6"
      },
      "source": [
        "sns.catplot(x='AGE',y='default payment next month',data=dataset,kind='bar',height=11).set_axis_labels(\"Age(year)\",\"default payment next month\")\n",
        "plt.show()"
      ],
      "execution_count": 10,
      "outputs": [
        {
          "output_type": "display_data",
          "data": {
            "image/png": "[encoded data removed]",
            "text/plain": [
              "<Figure size 792x792 with 1 Axes>"
            ]
          },
          "metadata": {
            "tags": [],
            "needs_background": "light"
          }
        }
      ]
    },
    {
      "cell_type": "markdown",
      "metadata": {
        "id": "NKpfky5axheM"
      },
      "source": [
        "### Age vs default payment next month\n",
        "This catplot shows the effect of age of an adult on his/her default payment next month,here it can be seen that adults who are age 60-61 have greater probability of default payment next month."
      ]
    },
    {
      "cell_type": "markdown",
      "metadata": {
        "id": "6FNKHGGqxheM"
      },
      "source": [
        "## C.Preliminary observation\n",
        "The Plots above show us that:\n",
        "\n",
        "<b>Fig1:</b> This graph shows gender ratio with respect to default payment next month. It can be clearly seen that the graph for less number of users will be paying credit card payments on time.<br>\n",
        "\n",
        "<b>Fig2:</b> This catplot shows the Gender ratio with default payment method. It can be seen that males have higher on-time payment ratio to females.<br>\n",
        "\n",
        "<b>Fig3:</b>This catplot shows the effect of education on default payment next month, as it can be seen that with increase in education the default payment next month probability of the user also increases.<br>\n",
        "\n",
        "<b>Fig4:</b>This catplot shows the effect of marital status of an adult on his/her default payment next month,here it can be seen that adults who are married have greater probability of default payment next month.<br>\n",
        "\n",
        "<b>Fig5:</b>This catplot shows the effect of age of an adult on his/her default payment next month,here it can be seen that adults who are above age of 60 have greater probability of default payment next month with slight variance.<br>"
      ]
    },
    {
      "cell_type": "markdown",
      "metadata": {
        "id": "Y9c82Y76xheM"
      },
      "source": [
        "# III. Methods and Resluts"
      ]
    },
    {
      "cell_type": "code",
      "metadata": {
        "id": "v0a7AftOA-4K",
        "colab": {
          "base_uri": "https://localhost:8080/",
          "height": 35
        },
        "outputId": "a6a0f649-f4c1-4508-8270-ee338cacbffe"
      },
      "source": [
        "import tensorflow as tf\n",
        "tf.test.gpu_device_name()"
      ],
      "execution_count": 11,
      "outputs": [
        {
          "output_type": "execute_result",
          "data": {
            "application/vnd.google.colaboratory.intrinsic+json": {
              "type": "string"
            },
            "text/plain": [
              "''"
            ]
          },
          "metadata": {
            "tags": []
          },
          "execution_count": 11
        }
      ]
    },
    {
      "cell_type": "code",
      "metadata": {
        "id": "0qD4VV1vxheM",
        "colab": {
          "base_uri": "https://localhost:8080/",
          "height": 351
        },
        "outputId": "50f0e41a-523c-460c-e30a-3cf4ee775085"
      },
      "source": [
        "dataset.describe()"
      ],
      "execution_count": 12,
      "outputs": [
        {
          "output_type": "execute_result",
          "data": {
            "text/html": [
              "<div>\n",
              "<style scoped>\n",
              "    .dataframe tbody tr th:only-of-type {\n",
              "        vertical-align: middle;\n",
              "    }\n",
              "\n",
              "    .dataframe tbody tr th {\n",
              "        vertical-align: top;\n",
              "    }\n",
              "\n",
              "    .dataframe thead th {\n",
              "        text-align: right;\n",
              "    }\n",
              "</style>\n",
              "<table border=\"1\" class=\"dataframe\">\n",
              "  <thead>\n",
              "    <tr style=\"text-align: right;\">\n",
              "      <th></th>\n",
              "      <th>LIMIT_BAL</th>\n",
              "      <th>SEX</th>\n",
              "      <th>EDUCATION</th>\n",
              "      <th>MARRIAGE</th>\n",
              "      <th>AGE</th>\n",
              "      <th>PAY_0</th>\n",
              "      <th>PAY_2</th>\n",
              "      <th>PAY_3</th>\n",
              "      <th>PAY_4</th>\n",
              "      <th>PAY_5</th>\n",
              "      <th>PAY_6</th>\n",
              "      <th>BILL_AMT1</th>\n",
              "      <th>BILL_AMT2</th>\n",
              "      <th>BILL_AMT3</th>\n",
              "      <th>BILL_AMT4</th>\n",
              "      <th>BILL_AMT5</th>\n",
              "      <th>BILL_AMT6</th>\n",
              "      <th>PAY_AMT1</th>\n",
              "      <th>PAY_AMT2</th>\n",
              "      <th>PAY_AMT3</th>\n",
              "      <th>PAY_AMT4</th>\n",
              "      <th>PAY_AMT5</th>\n",
              "      <th>PAY_AMT6</th>\n",
              "      <th>default payment next month</th>\n",
              "    </tr>\n",
              "  </thead>\n",
              "  <tbody>\n",
              "    <tr>\n",
              "      <th>count</th>\n",
              "      <td>29601.000000</td>\n",
              "      <td>29601.000000</td>\n",
              "      <td>29601.000000</td>\n",
              "      <td>29601.000000</td>\n",
              "      <td>29601.000000</td>\n",
              "      <td>29601.000000</td>\n",
              "      <td>29601.000000</td>\n",
              "      <td>29601.000000</td>\n",
              "      <td>29601.000000</td>\n",
              "      <td>29601.000000</td>\n",
              "      <td>29601.000000</td>\n",
              "      <td>29601.000000</td>\n",
              "      <td>29601.000000</td>\n",
              "      <td>2.960100e+04</td>\n",
              "      <td>29601.000000</td>\n",
              "      <td>29601.000000</td>\n",
              "      <td>29601.000000</td>\n",
              "      <td>29601.000000</td>\n",
              "      <td>2.960100e+04</td>\n",
              "      <td>29601.000000</td>\n",
              "      <td>29601.000000</td>\n",
              "      <td>29601.000000</td>\n",
              "      <td>29601.000000</td>\n",
              "      <td>29601.000000</td>\n",
              "    </tr>\n",
              "    <tr>\n",
              "      <th>mean</th>\n",
              "      <td>167550.544914</td>\n",
              "      <td>1.603189</td>\n",
              "      <td>1.815479</td>\n",
              "      <td>1.555454</td>\n",
              "      <td>35.464072</td>\n",
              "      <td>-0.014932</td>\n",
              "      <td>-0.131313</td>\n",
              "      <td>-0.163440</td>\n",
              "      <td>-0.218303</td>\n",
              "      <td>-0.263978</td>\n",
              "      <td>-0.287558</td>\n",
              "      <td>50957.432012</td>\n",
              "      <td>48942.189554</td>\n",
              "      <td>4.680320e+04</td>\n",
              "      <td>43122.554204</td>\n",
              "      <td>40235.545184</td>\n",
              "      <td>38858.449816</td>\n",
              "      <td>5649.560319</td>\n",
              "      <td>5.894788e+03</td>\n",
              "      <td>5198.415898</td>\n",
              "      <td>4828.659268</td>\n",
              "      <td>4795.032735</td>\n",
              "      <td>5181.326374</td>\n",
              "      <td>0.223134</td>\n",
              "    </tr>\n",
              "    <tr>\n",
              "      <th>std</th>\n",
              "      <td>129944.020953</td>\n",
              "      <td>0.489244</td>\n",
              "      <td>0.710399</td>\n",
              "      <td>0.518092</td>\n",
              "      <td>9.213243</td>\n",
              "      <td>1.124503</td>\n",
              "      <td>1.199642</td>\n",
              "      <td>1.199793</td>\n",
              "      <td>1.172220</td>\n",
              "      <td>1.136217</td>\n",
              "      <td>1.152206</td>\n",
              "      <td>73370.242404</td>\n",
              "      <td>70923.985151</td>\n",
              "      <td>6.912389e+04</td>\n",
              "      <td>64196.383913</td>\n",
              "      <td>60699.344884</td>\n",
              "      <td>59519.893043</td>\n",
              "      <td>16568.264941</td>\n",
              "      <td>2.308919e+04</td>\n",
              "      <td>17580.914806</td>\n",
              "      <td>15711.057992</td>\n",
              "      <td>15244.217154</td>\n",
              "      <td>17657.260739</td>\n",
              "      <td>0.416355</td>\n",
              "    </tr>\n",
              "    <tr>\n",
              "      <th>min</th>\n",
              "      <td>10000.000000</td>\n",
              "      <td>1.000000</td>\n",
              "      <td>1.000000</td>\n",
              "      <td>1.000000</td>\n",
              "      <td>21.000000</td>\n",
              "      <td>-2.000000</td>\n",
              "      <td>-2.000000</td>\n",
              "      <td>-2.000000</td>\n",
              "      <td>-2.000000</td>\n",
              "      <td>-2.000000</td>\n",
              "      <td>-2.000000</td>\n",
              "      <td>-165580.000000</td>\n",
              "      <td>-69777.000000</td>\n",
              "      <td>-1.572640e+05</td>\n",
              "      <td>-170000.000000</td>\n",
              "      <td>-81334.000000</td>\n",
              "      <td>-339603.000000</td>\n",
              "      <td>0.000000</td>\n",
              "      <td>0.000000e+00</td>\n",
              "      <td>0.000000</td>\n",
              "      <td>0.000000</td>\n",
              "      <td>0.000000</td>\n",
              "      <td>0.000000</td>\n",
              "      <td>0.000000</td>\n",
              "    </tr>\n",
              "    <tr>\n",
              "      <th>25%</th>\n",
              "      <td>50000.000000</td>\n",
              "      <td>1.000000</td>\n",
              "      <td>1.000000</td>\n",
              "      <td>1.000000</td>\n",
              "      <td>28.000000</td>\n",
              "      <td>-1.000000</td>\n",
              "      <td>-1.000000</td>\n",
              "      <td>-1.000000</td>\n",
              "      <td>-1.000000</td>\n",
              "      <td>-1.000000</td>\n",
              "      <td>-1.000000</td>\n",
              "      <td>3528.000000</td>\n",
              "      <td>2970.000000</td>\n",
              "      <td>2.652000e+03</td>\n",
              "      <td>2329.000000</td>\n",
              "      <td>1780.000000</td>\n",
              "      <td>1278.000000</td>\n",
              "      <td>1000.000000</td>\n",
              "      <td>8.250000e+02</td>\n",
              "      <td>390.000000</td>\n",
              "      <td>298.000000</td>\n",
              "      <td>259.000000</td>\n",
              "      <td>138.000000</td>\n",
              "      <td>0.000000</td>\n",
              "    </tr>\n",
              "    <tr>\n",
              "      <th>50%</th>\n",
              "      <td>140000.000000</td>\n",
              "      <td>2.000000</td>\n",
              "      <td>2.000000</td>\n",
              "      <td>2.000000</td>\n",
              "      <td>34.000000</td>\n",
              "      <td>0.000000</td>\n",
              "      <td>0.000000</td>\n",
              "      <td>0.000000</td>\n",
              "      <td>0.000000</td>\n",
              "      <td>0.000000</td>\n",
              "      <td>0.000000</td>\n",
              "      <td>22259.000000</td>\n",
              "      <td>21050.000000</td>\n",
              "      <td>2.003500e+04</td>\n",
              "      <td>19005.000000</td>\n",
              "      <td>18091.000000</td>\n",
              "      <td>17118.000000</td>\n",
              "      <td>2100.000000</td>\n",
              "      <td>2.007000e+03</td>\n",
              "      <td>1800.000000</td>\n",
              "      <td>1500.000000</td>\n",
              "      <td>1500.000000</td>\n",
              "      <td>1500.000000</td>\n",
              "      <td>0.000000</td>\n",
              "    </tr>\n",
              "    <tr>\n",
              "      <th>75%</th>\n",
              "      <td>240000.000000</td>\n",
              "      <td>2.000000</td>\n",
              "      <td>2.000000</td>\n",
              "      <td>2.000000</td>\n",
              "      <td>41.000000</td>\n",
              "      <td>0.000000</td>\n",
              "      <td>0.000000</td>\n",
              "      <td>0.000000</td>\n",
              "      <td>0.000000</td>\n",
              "      <td>0.000000</td>\n",
              "      <td>0.000000</td>\n",
              "      <td>66623.000000</td>\n",
              "      <td>63497.000000</td>\n",
              "      <td>5.983000e+04</td>\n",
              "      <td>54271.000000</td>\n",
              "      <td>50072.000000</td>\n",
              "      <td>49121.000000</td>\n",
              "      <td>5005.000000</td>\n",
              "      <td>5.000000e+03</td>\n",
              "      <td>4500.000000</td>\n",
              "      <td>4014.000000</td>\n",
              "      <td>4042.000000</td>\n",
              "      <td>4000.000000</td>\n",
              "      <td>0.000000</td>\n",
              "    </tr>\n",
              "    <tr>\n",
              "      <th>max</th>\n",
              "      <td>1000000.000000</td>\n",
              "      <td>2.000000</td>\n",
              "      <td>4.000000</td>\n",
              "      <td>3.000000</td>\n",
              "      <td>79.000000</td>\n",
              "      <td>8.000000</td>\n",
              "      <td>8.000000</td>\n",
              "      <td>8.000000</td>\n",
              "      <td>8.000000</td>\n",
              "      <td>8.000000</td>\n",
              "      <td>8.000000</td>\n",
              "      <td>964511.000000</td>\n",
              "      <td>983931.000000</td>\n",
              "      <td>1.664089e+06</td>\n",
              "      <td>891586.000000</td>\n",
              "      <td>927171.000000</td>\n",
              "      <td>961664.000000</td>\n",
              "      <td>873552.000000</td>\n",
              "      <td>1.684259e+06</td>\n",
              "      <td>896040.000000</td>\n",
              "      <td>621000.000000</td>\n",
              "      <td>426529.000000</td>\n",
              "      <td>528666.000000</td>\n",
              "      <td>1.000000</td>\n",
              "    </tr>\n",
              "  </tbody>\n",
              "</table>\n",
              "</div>"
            ],
            "text/plain": [
              "            LIMIT_BAL           SEX  ...       PAY_AMT6  default payment next month\n",
              "count    29601.000000  29601.000000  ...   29601.000000                29601.000000\n",
              "mean    167550.544914      1.603189  ...    5181.326374                    0.223134\n",
              "std     129944.020953      0.489244  ...   17657.260739                    0.416355\n",
              "min      10000.000000      1.000000  ...       0.000000                    0.000000\n",
              "25%      50000.000000      1.000000  ...     138.000000                    0.000000\n",
              "50%     140000.000000      2.000000  ...    1500.000000                    0.000000\n",
              "75%     240000.000000      2.000000  ...    4000.000000                    0.000000\n",
              "max    1000000.000000      2.000000  ...  528666.000000                    1.000000\n",
              "\n",
              "[8 rows x 24 columns]"
            ]
          },
          "metadata": {
            "tags": []
          },
          "execution_count": 12
        }
      ]
    },
    {
      "cell_type": "code",
      "metadata": {
        "id": "URntUQpcxheN"
      },
      "source": [
        "from sklearn.model_selection import train_test_split\n",
        "dt=dataset['default payment next month'].values\n",
        "dt1=dataset[['SEX','EDUCATION']].values\n",
        "X_train, X_test, y_train, y_test = train_test_split(dt1, dt, test_size=0.3, random_state=42)"
      ],
      "execution_count": 13,
      "outputs": []
    },
    {
      "cell_type": "markdown",
      "metadata": {
        "id": "RWx6VYsC8dxn"
      },
      "source": [
        ""
      ]
    },
    {
      "cell_type": "code",
      "metadata": {
        "id": "M9jQ3fZ9xheN"
      },
      "source": [
        "import tensorflow as tf\n",
        "from tensorflow import keras\n",
        "from keras import Sequential\n",
        "from keras.layers import Dense\n",
        "import matplotlib.pyplot as plt"
      ],
      "execution_count": 14,
      "outputs": []
    },
    {
      "cell_type": "markdown",
      "metadata": {
        "id": "7CtgUn56xheN"
      },
      "source": [
        "#First Structure"
      ]
    },
    {
      "cell_type": "code",
      "metadata": {
        "id": "fDo1RyJCxheN"
      },
      "source": [
        "classifier = Sequential()\n",
        "#First Layer\n",
        "classifier.add(Dense(4,activation='relu', kernel_initializer='random_normal', input_dim=2))\n",
        "#Second  Hidden Layer\n",
        "classifier.add(Dense(4, activation='relu', kernel_initializer='random_normal'))\n",
        "#Third Hidden Layer\n",
        "classifier.add(Dense(4, activation='relu', kernel_initializer='random_normal'))\n",
        "#Fourth Hidden Layer\n",
        "classifier.add(Dense(4, activation='relu', kernel_initializer='random_normal'))\n",
        "#Fifth Hidden Layer\n",
        "classifier.add(Dense(4, activation='relu', kernel_initializer='random_normal'))\n",
        "#Sixth Output Layer\n",
        "classifier.add(Dense(1, activation='sigmoid', kernel_initializer='random_normal'))"
      ],
      "execution_count": 55,
      "outputs": []
    },
    {
      "cell_type": "markdown",
      "metadata": {
        "id": "aY_dwGPfxheN"
      },
      "source": [
        "Here I created a sequential model of keras, the first layer is input layer where I have mentioned the input dimension of the dataset, I have used activation function relu for this structure and 4 number of units per layer.I have used a total of six layers in this structure."
      ]
    },
    {
      "cell_type": "code",
      "metadata": {
        "id": "ZHNh03aXxheN"
      },
      "source": [
        "classifier.compile(optimizer ='adam',loss='binary_crossentropy', metrics =['accuracy'])"
      ],
      "execution_count": 56,
      "outputs": []
    },
    {
      "cell_type": "markdown",
      "metadata": {
        "id": "RGHNM0OkxheN"
      },
      "source": [
        "classifier.compile is used here to configure the learning process , it has three parameters, I have used adam optimizer , binary_crossentropy which is the loss function and metrics to give the accuracy of the model."
      ]
    },
    {
      "cell_type": "code",
      "metadata": {
        "id": "0ZkvrTF-xheN"
      },
      "source": [
        "import time\n",
        "t0=time.time()"
      ],
      "execution_count": 57,
      "outputs": []
    },
    {
      "cell_type": "code",
      "metadata": {
        "id": "2CuZ8iVmxheN",
        "colab": {
          "base_uri": "https://localhost:8080/"
        },
        "outputId": "52c9ae20-ac06-4ed3-fca9-9f7903247036"
      },
      "source": [
        "classifier.fit(X_train,y_train, batch_size=32, epochs=20)"
      ],
      "execution_count": 58,
      "outputs": [
        {
          "output_type": "stream",
          "text": [
            "Epoch 1/20\n",
            "648/648 [==============================] - 1s 952us/step - loss: 0.5781 - accuracy: 0.7788\n",
            "Epoch 2/20\n",
            "648/648 [==============================] - 1s 894us/step - loss: 0.5285 - accuracy: 0.7788\n",
            "Epoch 3/20\n",
            "648/648 [==============================] - 1s 949us/step - loss: 0.5286 - accuracy: 0.7788\n",
            "Epoch 4/20\n",
            "648/648 [==============================] - 1s 927us/step - loss: 0.5285 - accuracy: 0.7788\n",
            "Epoch 5/20\n",
            "648/648 [==============================] - 1s 936us/step - loss: 0.5285 - accuracy: 0.7788\n",
            "Epoch 6/20\n",
            "648/648 [==============================] - 1s 847us/step - loss: 0.5286 - accuracy: 0.7788\n",
            "Epoch 7/20\n",
            "648/648 [==============================] - 1s 930us/step - loss: 0.5284 - accuracy: 0.7788\n",
            "Epoch 8/20\n",
            "648/648 [==============================] - 1s 892us/step - loss: 0.5285 - accuracy: 0.7788\n",
            "Epoch 9/20\n",
            "648/648 [==============================] - 1s 989us/step - loss: 0.5285 - accuracy: 0.7788\n",
            "Epoch 10/20\n",
            "648/648 [==============================] - 1s 988us/step - loss: 0.5285 - accuracy: 0.7788\n",
            "Epoch 11/20\n",
            "648/648 [==============================] - 1s 984us/step - loss: 0.5285 - accuracy: 0.7788\n",
            "Epoch 12/20\n",
            "648/648 [==============================] - 1s 954us/step - loss: 0.5285 - accuracy: 0.7788\n",
            "Epoch 13/20\n",
            "648/648 [==============================] - 1s 957us/step - loss: 0.5285 - accuracy: 0.7788\n",
            "Epoch 14/20\n",
            "648/648 [==============================] - 1s 974us/step - loss: 0.5285 - accuracy: 0.7788\n",
            "Epoch 15/20\n",
            "648/648 [==============================] - 1s 953us/step - loss: 0.5286 - accuracy: 0.7788\n",
            "Epoch 16/20\n",
            "648/648 [==============================] - 1s 969us/step - loss: 0.5285 - accuracy: 0.7788\n",
            "Epoch 17/20\n",
            "648/648 [==============================] - 1s 944us/step - loss: 0.5285 - accuracy: 0.7788\n",
            "Epoch 18/20\n",
            "648/648 [==============================] - 1s 992us/step - loss: 0.5286 - accuracy: 0.7788\n",
            "Epoch 19/20\n",
            "648/648 [==============================] - 1s 935us/step - loss: 0.5284 - accuracy: 0.7788\n",
            "Epoch 20/20\n",
            "648/648 [==============================] - 1s 945us/step - loss: 0.5286 - accuracy: 0.7788\n"
          ],
          "name": "stdout"
        },
        {
          "output_type": "execute_result",
          "data": {
            "text/plain": [
              "<tensorflow.python.keras.callbacks.History at 0x7f54c556bef0>"
            ]
          },
          "metadata": {
            "tags": []
          },
          "execution_count": 58
        }
      ]
    },
    {
      "cell_type": "markdown",
      "metadata": {
        "id": "QJn6ZVGHxheN"
      },
      "source": [
        "Here we are training the model with a batch size of 32 and 20 epochs."
      ]
    },
    {
      "cell_type": "code",
      "metadata": {
        "id": "fRL62DFgxheN"
      },
      "source": [
        "t1=time.time()"
      ],
      "execution_count": 59,
      "outputs": []
    },
    {
      "cell_type": "code",
      "metadata": {
        "id": "gK7vN5DsxheN",
        "colab": {
          "base_uri": "https://localhost:8080/"
        },
        "outputId": "18c42d7b-f214-4d42-9f4f-9a0fae75b1b6"
      },
      "source": [
        "print(\"Training time:\" , t1-t0)"
      ],
      "execution_count": 60,
      "outputs": [
        {
          "output_type": "stream",
          "text": [
            "Training time: 13.2556893825531\n"
          ],
          "name": "stdout"
        }
      ]
    },
    {
      "cell_type": "code",
      "metadata": {
        "id": "qD7DUo66xheN",
        "colab": {
          "base_uri": "https://localhost:8080/"
        },
        "outputId": "eba7ac02-cf63-4a34-a678-73d779a095b4"
      },
      "source": [
        "eval_model=classifier.evaluate(X_train, y_train)\n",
        "eval_model"
      ],
      "execution_count": 61,
      "outputs": [
        {
          "output_type": "stream",
          "text": [
            "648/648 [==============================] - 1s 774us/step - loss: 0.5286 - accuracy: 0.7788\n"
          ],
          "name": "stdout"
        },
        {
          "output_type": "execute_result",
          "data": {
            "text/plain": [
              "[0.528563380241394, 0.7788127660751343]"
            ]
          },
          "metadata": {
            "tags": []
          },
          "execution_count": 61
        }
      ]
    },
    {
      "cell_type": "code",
      "metadata": {
        "id": "vjYZp7uPxheO"
      },
      "source": [
        "y_pred_test=classifier.predict(X_test)\n",
        "y_pred_test= (y_pred_test>0.5)\n",
        "y_pred_train=classifier.predict(X_train)\n",
        "y_pred_train= (y_pred_train>0.5)"
      ],
      "execution_count": 62,
      "outputs": []
    },
    {
      "cell_type": "markdown",
      "metadata": {
        "id": "RbWUf8X2xheO"
      },
      "source": [
        "## Results"
      ]
    },
    {
      "cell_type": "code",
      "metadata": {
        "id": "C7aI_f9PxheO",
        "colab": {
          "base_uri": "https://localhost:8080/",
          "height": 639
        },
        "outputId": "59ed5ad8-e918-499e-8ae4-0ee6102bce98"
      },
      "source": [
        "plt.title(\"Test Data\")\n",
        "plt.plot(y_test[0:50])\n",
        "plt.show()\n",
        "plt.plot(y_pred_test[0:50])\n",
        "plt.plot(y_test[0:50])\n",
        "plt.show()"
      ],
      "execution_count": 63,
      "outputs": [
        {
          "output_type": "display_data",
          "data": {
            "image/png": "[encoded data removed]",
            "text/plain": [
              "<Figure size 576x360 with 1 Axes>"
            ]
          },
          "metadata": {
            "tags": [],
            "needs_background": "light"
          }
        },
        {
          "output_type": "display_data",
          "data": {
            "image/png": "[encoded data removed]",
            "text/plain": [
              "<Figure size 576x360 with 1 Axes>"
            ]
          },
          "metadata": {
            "tags": [],
            "needs_background": "light"
          }
        }
      ]
    },
    {
      "cell_type": "code",
      "metadata": {
        "id": "a1B4vjGxxheO",
        "colab": {
          "base_uri": "https://localhost:8080/",
          "height": 639
        },
        "outputId": "f85dc92e-b17a-4bed-9f74-fcf35ece1365"
      },
      "source": [
        "plt.title(\"Train Data\")\n",
        "plt.plot(y_train[0:50])\n",
        "plt.show()\n",
        "plt.plot(y_pred_train[0:50])\n",
        "plt.plot(y_train[0:50])\n",
        "plt.show()"
      ],
      "execution_count": 64,
      "outputs": [
        {
          "output_type": "display_data",
          "data": {
            "image/png": "[encoded data removed]",
            "text/plain": [
              "<Figure size 576x360 with 1 Axes>"
            ]
          },
          "metadata": {
            "tags": [],
            "needs_background": "light"
          }
        },
        {
          "output_type": "display_data",
          "data": {
            "image/png": "[encoded data removed]",
            "text/plain": [
              "<Figure size 576x360 with 1 Axes>"
            ]
          },
          "metadata": {
            "tags": [],
            "needs_background": "light"
          }
        }
      ]
    },
    {
      "cell_type": "code",
      "metadata": {
        "id": "-oG3mHnQxheO"
      },
      "source": [
        "from sklearn.metrics import confusion_matrix\n",
        "cf=confusion_matrix(y_test, y_pred_test)\n",
        "TP=cf[1][1]\n",
        "TN=cf[0][0]\n",
        "FN=cf[1][0]\n",
        "FP=cf[0][1]\n",
        "\n",
        "cf1=confusion_matrix(y_train, y_pred_train)\n",
        "TP=cf1[1][1]\n",
        "TN=cf1[0][0]\n",
        "FN=cf1[1][0]\n",
        "FP=cf1[0][1]"
      ],
      "execution_count": 65,
      "outputs": []
    },
    {
      "cell_type": "code",
      "metadata": {
        "id": "3lczFCC4xheO",
        "colab": {
          "base_uri": "https://localhost:8080/",
          "height": 350
        },
        "outputId": "b1fcd72b-3c06-4d22-8ded-022b269f82a2"
      },
      "source": [
        "ax= plt.subplot()\n",
        "sns.heatmap(cf, annot=True, ax = ax); \n",
        "\n",
        "ax.set_xlabel('Predicted labels');\n",
        "ax.set_ylabel('True labels'); \n",
        "ax.set_title('Confusion Matrix');"
      ],
      "execution_count": 66,
      "outputs": [
        {
          "output_type": "display_data",
          "data": {
            "image/png": "[encoded data removed]",
            "text/plain": [
              "<Figure size 576x360 with 2 Axes>"
            ]
          },
          "metadata": {
            "tags": [],
            "needs_background": "light"
          }
        }
      ]
    },
    {
      "cell_type": "markdown",
      "metadata": {
        "id": "ofcv6V_bxheO"
      },
      "source": [
        "## Discussion about Results\n",
        "\n",
        "We got an accuracy of 77.8% in this model with seven layers and 4 hidden units each with relu activation function."
      ]
    },
    {
      "cell_type": "markdown",
      "metadata": {
        "id": "IRGHcWERxheO"
      },
      "source": [
        "# Second Structure"
      ]
    },
    {
      "cell_type": "code",
      "metadata": {
        "id": "GBAZU2OlxheO"
      },
      "source": [
        "classifier = Sequential()\n",
        "#First Layer\n",
        "classifier.add(Dense(12, activation='tanh', kernel_initializer='random_normal', input_dim=2))\n",
        "#Second  Hidden Layer\n",
        "classifier.add(Dense(12, activation='tanh', kernel_initializer='random_normal'))\n",
        "#Third Hidden Layer\n",
        "classifier.add(Dense(12, activation='tanh', kernel_initializer='random_normal'))\n",
        "#Fourth Hidden Layer\n",
        "classifier.add(Dense(12, activation='tanh', kernel_initializer='random_normal'))\n",
        "#Fifth Hidden Layer\n",
        "classifier.add(Dense(12, activation='tanh', kernel_initializer='random_normal'))\n",
        "#Sixth Hidden Layer\n",
        "classifier.add(Dense(12, activation='tanh', kernel_initializer='random_normal'))\n",
        "#Seventh Output Layer\n",
        "classifier.add(Dense(1, activation='tanh', kernel_initializer='random_normal'))"
      ],
      "execution_count": 67,
      "outputs": []
    },
    {
      "cell_type": "markdown",
      "metadata": {
        "id": "Q_P03UGExheO"
      },
      "source": [
        "Here I created a sequential model of keras, the first layer is input layer where I have mentioned the input dimension of the dataset, I have used activation function tanh for this structure and 12 number of units per layer.I have used a total of seven layers in this structure."
      ]
    },
    {
      "cell_type": "code",
      "metadata": {
        "id": "0LTMqGe1xheO"
      },
      "source": [
        "classifier.compile(optimizer ='adam',loss='binary_crossentropy', metrics =['accuracy'])"
      ],
      "execution_count": 68,
      "outputs": []
    },
    {
      "cell_type": "markdown",
      "metadata": {
        "id": "rVRwyLukxheO"
      },
      "source": [
        "classifier.compile is used here to configure the learning process , it has three parameters, I have used adam optimizer , binary_crossentropy which is the loss function and metrics to give the accuracy of the model."
      ]
    },
    {
      "cell_type": "code",
      "metadata": {
        "id": "F5YtjIVNxheO"
      },
      "source": [
        "import time\n",
        "t0=time.time()"
      ],
      "execution_count": 69,
      "outputs": []
    },
    {
      "cell_type": "code",
      "metadata": {
        "id": "xdW-sNc0xheO",
        "colab": {
          "base_uri": "https://localhost:8080/"
        },
        "outputId": "6427ff37-f5d6-49df-b03b-334aaf33fe99"
      },
      "source": [
        "classifier.fit(X_train,y_train, batch_size=32, epochs=20)"
      ],
      "execution_count": 70,
      "outputs": [
        {
          "output_type": "stream",
          "text": [
            "Epoch 1/20\n",
            "648/648 [==============================] - 1s 1ms/step - loss: 3.4118 - accuracy: 0.7788\n",
            "Epoch 2/20\n",
            "648/648 [==============================] - 1s 1ms/step - loss: 3.4118 - accuracy: 0.7788\n",
            "Epoch 3/20\n",
            "648/648 [==============================] - 1s 1ms/step - loss: 3.4118 - accuracy: 0.7788\n",
            "Epoch 4/20\n",
            "648/648 [==============================] - 1s 1ms/step - loss: 3.4118 - accuracy: 0.7788\n",
            "Epoch 5/20\n",
            "648/648 [==============================] - 1s 981us/step - loss: 3.4118 - accuracy: 0.7788\n",
            "Epoch 6/20\n",
            "648/648 [==============================] - 1s 1ms/step - loss: 3.4118 - accuracy: 0.7788\n",
            "Epoch 7/20\n",
            "648/648 [==============================] - 1s 1ms/step - loss: 3.4118 - accuracy: 0.7788\n",
            "Epoch 8/20\n",
            "648/648 [==============================] - 1s 1ms/step - loss: 3.4118 - accuracy: 0.7788\n",
            "Epoch 9/20\n",
            "648/648 [==============================] - 1s 1ms/step - loss: 3.4118 - accuracy: 0.7788\n",
            "Epoch 10/20\n",
            "648/648 [==============================] - 1s 999us/step - loss: 3.4118 - accuracy: 0.7788\n",
            "Epoch 11/20\n",
            "648/648 [==============================] - 1s 998us/step - loss: 3.4118 - accuracy: 0.7788\n",
            "Epoch 12/20\n",
            "648/648 [==============================] - 1s 914us/step - loss: 3.4118 - accuracy: 0.7788\n",
            "Epoch 13/20\n",
            "648/648 [==============================] - 1s 795us/step - loss: 3.4118 - accuracy: 0.7788\n",
            "Epoch 14/20\n",
            "648/648 [==============================] - 1s 981us/step - loss: 3.4118 - accuracy: 0.7788\n",
            "Epoch 15/20\n",
            "648/648 [==============================] - 1s 981us/step - loss: 3.4118 - accuracy: 0.7788\n",
            "Epoch 16/20\n",
            "648/648 [==============================] - 1s 987us/step - loss: 3.4118 - accuracy: 0.7788\n",
            "Epoch 17/20\n",
            "648/648 [==============================] - 1s 947us/step - loss: 3.4118 - accuracy: 0.7788\n",
            "Epoch 18/20\n",
            "648/648 [==============================] - 1s 1ms/step - loss: 3.4118 - accuracy: 0.7788\n",
            "Epoch 19/20\n",
            "648/648 [==============================] - 1s 1ms/step - loss: 3.4118 - accuracy: 0.7788\n",
            "Epoch 20/20\n",
            "648/648 [==============================] - 1s 1ms/step - loss: 3.4118 - accuracy: 0.7788\n"
          ],
          "name": "stdout"
        },
        {
          "output_type": "execute_result",
          "data": {
            "text/plain": [
              "<tensorflow.python.keras.callbacks.History at 0x7f54c4dc3c88>"
            ]
          },
          "metadata": {
            "tags": []
          },
          "execution_count": 70
        }
      ]
    },
    {
      "cell_type": "code",
      "metadata": {
        "id": "CIqWD_jpxheO"
      },
      "source": [
        "t1=time.time()"
      ],
      "execution_count": 71,
      "outputs": []
    },
    {
      "cell_type": "code",
      "metadata": {
        "id": "eO7QuXPrxheO",
        "colab": {
          "base_uri": "https://localhost:8080/"
        },
        "outputId": "2de7045d-f380-409a-d41b-6e9cb0e870ff"
      },
      "source": [
        "print(\"Training time:\" , t1-t0)"
      ],
      "execution_count": 72,
      "outputs": [
        {
          "output_type": "stream",
          "text": [
            "Training time: 13.550551652908325\n"
          ],
          "name": "stdout"
        }
      ]
    },
    {
      "cell_type": "code",
      "metadata": {
        "id": "U0I7s7wjxheO",
        "colab": {
          "base_uri": "https://localhost:8080/"
        },
        "outputId": "be01b51c-c0f5-44de-c52f-c51e25bff83b"
      },
      "source": [
        "eval_model=classifier.evaluate(X_train, y_train)\n",
        "eval_model"
      ],
      "execution_count": 73,
      "outputs": [
        {
          "output_type": "stream",
          "text": [
            "648/648 [==============================] - 0s 770us/step - loss: 3.4118 - accuracy: 0.7788\n"
          ],
          "name": "stdout"
        },
        {
          "output_type": "execute_result",
          "data": {
            "text/plain": [
              "[3.411806344985962, 0.7788127660751343]"
            ]
          },
          "metadata": {
            "tags": []
          },
          "execution_count": 73
        }
      ]
    },
    {
      "cell_type": "code",
      "metadata": {
        "id": "phZTHnpRxheO"
      },
      "source": [
        "y_pred_test=classifier.predict(X_test)\n",
        "y_pred_test= (y_pred_test>0.5)\n",
        "y_pred_train=classifier.predict(X_train)\n",
        "y_pred_train= (y_pred_train>0.5)"
      ],
      "execution_count": 74,
      "outputs": []
    },
    {
      "cell_type": "markdown",
      "metadata": {
        "id": "w-CmzzFhxheP"
      },
      "source": [
        "## Results"
      ]
    },
    {
      "cell_type": "code",
      "metadata": {
        "id": "61ohblEjxheP",
        "colab": {
          "base_uri": "https://localhost:8080/",
          "height": 639
        },
        "outputId": "5cdb09a1-9cc1-4d7d-dd13-bdd99453850c"
      },
      "source": [
        "plt.title(\"Test Data\")\n",
        "plt.plot(y_test[0:50])\n",
        "plt.show()\n",
        "plt.plot(y_pred_test[0:50])\n",
        "plt.show()"
      ],
      "execution_count": 75,
      "outputs": [
        {
          "output_type": "display_data",
          "data": {
            "image/png": "[encoded data removed]",
            "text/plain": [
              "<Figure size 576x360 with 1 Axes>"
            ]
          },
          "metadata": {
            "tags": [],
            "needs_background": "light"
          }
        },
        {
          "output_type": "display_data",
          "data": {
            "image/png": "[encoded data removed]",
            "text/plain": [
              "<Figure size 576x360 with 1 Axes>"
            ]
          },
          "metadata": {
            "tags": [],
            "needs_background": "light"
          }
        }
      ]
    },
    {
      "cell_type": "code",
      "metadata": {
        "id": "HheWi0BdxheP",
        "colab": {
          "base_uri": "https://localhost:8080/",
          "height": 639
        },
        "outputId": "90176976-6293-468c-d481-838ae89d9a67"
      },
      "source": [
        "plt.title(\"Train Data\")\n",
        "plt.plot(y_train[0:50])\n",
        "plt.show()\n",
        "plt.plot(y_pred_train[0:50])\n",
        "plt.show()"
      ],
      "execution_count": 76,
      "outputs": [
        {
          "output_type": "display_data",
          "data": {
            "image/png": "[encoded data removed]",
            "text/plain": [
              "<Figure size 576x360 with 1 Axes>"
            ]
          },
          "metadata": {
            "tags": [],
            "needs_background": "light"
          }
        },
        {
          "output_type": "display_data",
          "data": {
            "image/png": "[encoded data removed]",
            "text/plain": [
              "<Figure size 576x360 with 1 Axes>"
            ]
          },
          "metadata": {
            "tags": [],
            "needs_background": "light"
          }
        }
      ]
    },
    {
      "cell_type": "code",
      "metadata": {
        "id": "MrVu1n-4xheP",
        "colab": {
          "base_uri": "https://localhost:8080/"
        },
        "outputId": "8f280b80-f6ed-485b-8784-593ceb50cffb"
      },
      "source": [
        "cf2=confusion_matrix(y_test, y_pred_test)\n",
        "TP=cf2[1][1]\n",
        "TN=cf2[0][0]\n",
        "FN=cf2[1][0]\n",
        "FP=cf2[0][1]\n",
        "\n",
        "cf3=confusion_matrix(y_train, y_pred_train)\n",
        "TP=cf3[1][1]\n",
        "TN=cf3[0][0]\n",
        "FN=cf3[1][0]\n",
        "FP=cf3[0][1]\n",
        "precision=(TP/(TP+FP))"
      ],
      "execution_count": 77,
      "outputs": [
        {
          "output_type": "stream",
          "text": [
            "/usr/local/lib/python3.6/dist-packages/ipykernel_launcher.py:12: RuntimeWarning: invalid value encountered in long_scalars\n",
            "  if sys.path[0] == '':\n"
          ],
          "name": "stderr"
        }
      ]
    },
    {
      "cell_type": "code",
      "metadata": {
        "id": "xkVsv5R3xheP",
        "colab": {
          "base_uri": "https://localhost:8080/",
          "height": 350
        },
        "outputId": "55a9b958-d3fe-4984-a7db-d2d8a5f4aff2"
      },
      "source": [
        "ax= plt.subplot()\n",
        "sns.heatmap(cf2, annot=True, ax = ax); \n",
        "\n",
        "ax.set_xlabel('Predicted labels');\n",
        "ax.set_ylabel('True labels'); \n",
        "ax.set_title('Confusion Matrix');"
      ],
      "execution_count": 78,
      "outputs": [
        {
          "output_type": "display_data",
          "data": {
            "image/png": "[encoded data removed]",
            "text/plain": [
              "<Figure size 576x360 with 2 Axes>"
            ]
          },
          "metadata": {
            "tags": [],
            "needs_background": "light"
          }
        }
      ]
    },
    {
      "cell_type": "markdown",
      "metadata": {
        "id": "dEaF18WyxheP"
      },
      "source": [
        "## Discussion about Results\n",
        "We got an accuracy of 77.8% in this model with seven layers and 12 hidden units each with tanh activation function."
      ]
    },
    {
      "cell_type": "markdown",
      "metadata": {
        "id": "6j_ZyB91xheP"
      },
      "source": [
        "# Third Structure"
      ]
    },
    {
      "cell_type": "code",
      "metadata": {
        "id": "3nCoUnerxheP"
      },
      "source": [
        "classifier = Sequential()\n",
        "#First Layer\n",
        "classifier.add(Dense(24, activation='softmax', kernel_initializer='random_normal', input_dim=2))\n",
        "#Second  Hidden Layer\n",
        "classifier.add(Dense(24, activation='softmax', kernel_initializer='random_normal'))\n",
        "#Third Hidden Layer\n",
        "classifier.add(Dense(24, activation='softmax', kernel_initializer='random_normal'))\n",
        "#Fourth Hidden Layer\n",
        "classifier.add(Dense(24, activation='softmax', kernel_initializer='random_normal'))\n",
        "#Fifth Hidden Layer\n",
        "classifier.add(Dense(24, activation='tanh', kernel_initializer='random_normal'))\n",
        "#Sixth Output Layer\n",
        "classifier.add(Dense(1, activation='softmax', kernel_initializer='random_normal'))"
      ],
      "execution_count": 79,
      "outputs": []
    },
    {
      "cell_type": "markdown",
      "metadata": {
        "id": "VNZyHXD8xheP"
      },
      "source": [
        "Here I created a sequential model of keras, the first layer is input layer where I have mentioned the input dimension of the dataset, I have used activation function tanh for this structure and 12 number of units per layer.I have used a total of seven layers in this structure."
      ]
    },
    {
      "cell_type": "code",
      "metadata": {
        "id": "TknR4cvRxheP"
      },
      "source": [
        "classifier.compile(optimizer ='adam',loss='binary_crossentropy', metrics =['accuracy'])"
      ],
      "execution_count": 80,
      "outputs": []
    },
    {
      "cell_type": "markdown",
      "metadata": {
        "id": "ACdfbW3TxheP"
      },
      "source": [
        "classifier.compile is used here to configure the learning process , it has three parameters, I have used adam optimizer , binary_crossentropy which is the loss function and metrics to give the accuracy of the model."
      ]
    },
    {
      "cell_type": "code",
      "metadata": {
        "id": "0MRQIW83xheP"
      },
      "source": [
        "t0=time.time()"
      ],
      "execution_count": 81,
      "outputs": []
    },
    {
      "cell_type": "code",
      "metadata": {
        "id": "smhGNZO3xheP",
        "colab": {
          "base_uri": "https://localhost:8080/"
        },
        "outputId": "a30bae16-e1eb-47cf-ad32-4900b7d892d6"
      },
      "source": [
        "classifier.fit(X_train,y_train, batch_size=32, epochs=20)"
      ],
      "execution_count": 82,
      "outputs": [
        {
          "output_type": "stream",
          "text": [
            "Epoch 1/20\n",
            "648/648 [==============================] - 1s 1ms/step - loss: 11.8763 - accuracy: 0.2212\n",
            "Epoch 2/20\n",
            "648/648 [==============================] - 1s 1ms/step - loss: 11.8764 - accuracy: 0.2212\n",
            "Epoch 3/20\n",
            "648/648 [==============================] - 1s 1ms/step - loss: 11.8763 - accuracy: 0.2212\n",
            "Epoch 4/20\n",
            "648/648 [==============================] - 1s 1ms/step - loss: 11.8764 - accuracy: 0.2212\n",
            "Epoch 5/20\n",
            "648/648 [==============================] - 1s 1ms/step - loss: 11.8764 - accuracy: 0.2212\n",
            "Epoch 6/20\n",
            "648/648 [==============================] - 1s 1ms/step - loss: 11.8763 - accuracy: 0.2212\n",
            "Epoch 7/20\n",
            "648/648 [==============================] - 1s 1ms/step - loss: 11.8764 - accuracy: 0.2212\n",
            "Epoch 8/20\n",
            "648/648 [==============================] - 1s 1ms/step - loss: 11.8764 - accuracy: 0.2212\n",
            "Epoch 9/20\n",
            "648/648 [==============================] - 1s 1ms/step - loss: 11.8763 - accuracy: 0.2212\n",
            "Epoch 10/20\n",
            "648/648 [==============================] - 1s 1ms/step - loss: 11.8763 - accuracy: 0.2212\n",
            "Epoch 11/20\n",
            "648/648 [==============================] - 1s 1ms/step - loss: 11.8763 - accuracy: 0.2212\n",
            "Epoch 12/20\n",
            "648/648 [==============================] - 1s 1ms/step - loss: 11.8764 - accuracy: 0.2212\n",
            "Epoch 13/20\n",
            "648/648 [==============================] - 1s 1ms/step - loss: 11.8763 - accuracy: 0.2212\n",
            "Epoch 14/20\n",
            "648/648 [==============================] - 1s 1ms/step - loss: 11.8763 - accuracy: 0.2212\n",
            "Epoch 15/20\n",
            "648/648 [==============================] - 1s 1ms/step - loss: 11.8764 - accuracy: 0.2212\n",
            "Epoch 16/20\n",
            "648/648 [==============================] - 1s 1ms/step - loss: 11.8764 - accuracy: 0.2212\n",
            "Epoch 17/20\n",
            "648/648 [==============================] - 1s 1ms/step - loss: 11.8763 - accuracy: 0.2212\n",
            "Epoch 18/20\n",
            "648/648 [==============================] - 1s 1ms/step - loss: 11.8764 - accuracy: 0.2212\n",
            "Epoch 19/20\n",
            "648/648 [==============================] - 1s 1ms/step - loss: 11.8764 - accuracy: 0.2212\n",
            "Epoch 20/20\n",
            "648/648 [==============================] - 1s 1ms/step - loss: 11.8763 - accuracy: 0.2212\n"
          ],
          "name": "stdout"
        },
        {
          "output_type": "execute_result",
          "data": {
            "text/plain": [
              "<tensorflow.python.keras.callbacks.History at 0x7f54c4da2358>"
            ]
          },
          "metadata": {
            "tags": []
          },
          "execution_count": 82
        }
      ]
    },
    {
      "cell_type": "code",
      "metadata": {
        "id": "fndkWs24xheP"
      },
      "source": [
        "t1=time.time()"
      ],
      "execution_count": 83,
      "outputs": []
    },
    {
      "cell_type": "code",
      "metadata": {
        "id": "M7w8mhCuxheP",
        "colab": {
          "base_uri": "https://localhost:8080/"
        },
        "outputId": "e883e284-3719-43f8-9093-dc90b82413f7"
      },
      "source": [
        "print(\"Training time:\" , t1-t0)"
      ],
      "execution_count": 84,
      "outputs": [
        {
          "output_type": "stream",
          "text": [
            "Training time: 17.300453186035156\n"
          ],
          "name": "stdout"
        }
      ]
    },
    {
      "cell_type": "code",
      "metadata": {
        "id": "OBnG5asWxheP",
        "colab": {
          "base_uri": "https://localhost:8080/"
        },
        "outputId": "6ee2749b-5703-4f26-e145-36490b147203"
      },
      "source": [
        "eval_model=classifier.evaluate(X_train, y_train)\n",
        "eval_model"
      ],
      "execution_count": 85,
      "outputs": [
        {
          "output_type": "stream",
          "text": [
            "648/648 [==============================] - 1s 819us/step - loss: 11.8764 - accuracy: 0.2212\n"
          ],
          "name": "stdout"
        },
        {
          "output_type": "execute_result",
          "data": {
            "text/plain": [
              "[11.876351356506348, 0.2211872637271881]"
            ]
          },
          "metadata": {
            "tags": []
          },
          "execution_count": 85
        }
      ]
    },
    {
      "cell_type": "code",
      "metadata": {
        "id": "s4NdP6lcxheP"
      },
      "source": [
        "y_pred_test=classifier.predict(X_test)\n",
        "y_pred_test= (y_pred_test>0.5)\n",
        "y_pred_train=classifier.predict(X_train)\n",
        "y_pred_train= (y_pred_train>0.5)"
      ],
      "execution_count": 86,
      "outputs": []
    },
    {
      "cell_type": "markdown",
      "metadata": {
        "id": "mt9J8VkdxheP"
      },
      "source": [
        "## Results"
      ]
    },
    {
      "cell_type": "code",
      "metadata": {
        "id": "K8fesV6NxheP",
        "colab": {
          "base_uri": "https://localhost:8080/",
          "height": 639
        },
        "outputId": "b88c81db-3e6e-4e49-c71c-fad1e26ba0be"
      },
      "source": [
        "plt.title(\"Test Data\")\n",
        "plt.plot(y_test[0:50])\n",
        "plt.show()\n",
        "plt.plot(y_pred_test[0:50])\n",
        "plt.plot(y_test[0:50])\n",
        "plt.show()"
      ],
      "execution_count": 87,
      "outputs": [
        {
          "output_type": "display_data",
          "data": {
            "image/png": "[encoded data removed]",
            "text/plain": [
              "<Figure size 576x360 with 1 Axes>"
            ]
          },
          "metadata": {
            "tags": [],
            "needs_background": "light"
          }
        },
        {
          "output_type": "display_data",
          "data": {
            "image/png": "[encoded data removed]",
            "text/plain": [
              "<Figure size 576x360 with 1 Axes>"
            ]
          },
          "metadata": {
            "tags": [],
            "needs_background": "light"
          }
        }
      ]
    },
    {
      "cell_type": "code",
      "metadata": {
        "id": "hqk6Mnb3xheP",
        "colab": {
          "base_uri": "https://localhost:8080/",
          "height": 639
        },
        "outputId": "eda5f8b0-0b00-476f-e3c1-1c4a1c0f4761"
      },
      "source": [
        "plt.title(\"Train Data\")\n",
        "plt.plot(y_train[0:50])\n",
        "plt.show()\n",
        "plt.plot(y_pred_train[0:50])\n",
        "plt.plot(y_train[0:50])\n",
        "plt.show()"
      ],
      "execution_count": 88,
      "outputs": [
        {
          "output_type": "display_data",
          "data": {
            "image/png": "[encoded data removed]",
            "text/plain": [
              "<Figure size 576x360 with 1 Axes>"
            ]
          },
          "metadata": {
            "tags": [],
            "needs_background": "light"
          }
        },
        {
          "output_type": "display_data",
          "data": {
            "image/png": "[encoded data removed]",
            "text/plain": [
              "<Figure size 576x360 with 1 Axes>"
            ]
          },
          "metadata": {
            "tags": [],
            "needs_background": "light"
          }
        }
      ]
    },
    {
      "cell_type": "code",
      "metadata": {
        "id": "89tGV-tvxheP"
      },
      "source": [
        "cf4=confusion_matrix(y_test, y_pred_test)\n",
        "TP=cf4[1][1]\n",
        "TN=cf4[0][0]\n",
        "FN=cf4[1][0]\n",
        "FP=cf4[0][1]\n",
        "\n",
        "cf5=confusion_matrix(y_train, y_pred_train)\n",
        "TP=cf5[1][1]\n",
        "TN=cf5[0][0]\n",
        "FN=cf5[1][0]\n",
        "FP=cf5[0][1]\n",
        "precision=(TP/(TP+FP))"
      ],
      "execution_count": 89,
      "outputs": []
    },
    {
      "cell_type": "code",
      "metadata": {
        "id": "OKhYDHU6xheP",
        "colab": {
          "base_uri": "https://localhost:8080/",
          "height": 350
        },
        "outputId": "fba4509e-739b-426d-8a4f-19acf1738e33"
      },
      "source": [
        "ax= plt.subplot()\n",
        "sns.heatmap(cf4, annot=True, ax = ax); \n",
        "\n",
        "ax.set_xlabel('Predicted labels');\n",
        "ax.set_ylabel('True labels'); \n",
        "ax.set_title('Confusion Matrix');"
      ],
      "execution_count": 90,
      "outputs": [
        {
          "output_type": "display_data",
          "data": {
            "image/png": "[encoded data removed]",
            "text/plain": [
              "<Figure size 576x360 with 2 Axes>"
            ]
          },
          "metadata": {
            "tags": [],
            "needs_background": "light"
          }
        }
      ]
    },
    {
      "cell_type": "markdown",
      "metadata": {
        "id": "8Vzh1E-YxheQ"
      },
      "source": [
        "## Discussion about Results\n",
        "\n",
        "We got an accuracy of 22% in this model with six layers and 24 hidden units each with softmax activation function."
      ]
    },
    {
      "cell_type": "markdown",
      "metadata": {
        "id": "-cEHSsQKxheQ"
      },
      "source": [
        "# Comparison of results and choice of parameters\n",
        "\n",
        "For the first structure I chose to make a simple model with five deep layers each with 4 hidden units and used relu activation function. I got an accuracy of 77.8% which shows that the model is overfitting the dataset we have.\n",
        "<br><br>\n",
        "For the second structure I made the model of seven layers with one input layer, one output layer and five hidden layers each with 12 hidden units and tanh activation function.Here I got an accuracy of 77.8% which shows activation function here did not affect the results. \n",
        "<br><br>\n",
        "For the third structure I made the model of six layers with four hidden layers and each hidden layer with 24 hidden units which had an accuracy of 22%.The choice of model shows that the activation function also effects the overall results of the model a lot.\n"
      ]
    },
    {
      "cell_type": "markdown",
      "metadata": {
        "id": "l8cTOsTLxheQ"
      },
      "source": [
        "# Conclusion\n",
        "\n",
        "I have implemented three deep neural net structures in this assignment and I have learned how the choice of parameters for the model affect the results of the model. I have also implemented the same models on GPU and found the difference between training times of both."
      ]
    },
    {
      "cell_type": "markdown",
      "metadata": {
        "id": "m53EXrZ_xheQ"
      },
      "source": [
        "# Extra Credit"
      ]
    },
    {
      "cell_type": "code",
      "metadata": {
        "id": "ZsbvYTepAG9R",
        "colab": {
          "base_uri": "https://localhost:8080/",
          "height": 35
        },
        "outputId": "bdeda99d-26cd-41bb-ca80-5ea5a64e2eda"
      },
      "source": [
        "import tensorflow as tf\n",
        "tf.test.gpu_device_name()"
      ],
      "execution_count": 18,
      "outputs": [
        {
          "output_type": "execute_result",
          "data": {
            "application/vnd.google.colaboratory.intrinsic+json": {
              "type": "string"
            },
            "text/plain": [
              "'/device:GPU:0'"
            ]
          },
          "metadata": {
            "tags": []
          },
          "execution_count": 18
        }
      ]
    },
    {
      "cell_type": "code",
      "metadata": {
        "id": "lDZm313T8Itv"
      },
      "source": [
        "import matplotlib.pyplot as plt\n",
        "import pandas as pd\n",
        "import seaborn as sns\n",
        "import warnings\n",
        "warnings.simplefilter(action='ignore', category=FutureWarning)"
      ],
      "execution_count": 19,
      "outputs": []
    },
    {
      "cell_type": "code",
      "metadata": {
        "id": "lLG3LeOA7mFW"
      },
      "source": [
        "import tensorflow as tf\n",
        "from tensorflow import keras\n",
        "from keras import Sequential\n",
        "from keras.layers import Dense\n",
        "import matplotlib.pyplot as plt\n",
        "# tf.enable_eager_execution()"
      ],
      "execution_count": 20,
      "outputs": []
    },
    {
      "cell_type": "code",
      "metadata": {
        "id": "JT_rNjN88Wki"
      },
      "source": [
        "dataset=pd.read_excel('default of credit card clients.xls')"
      ],
      "execution_count": 21,
      "outputs": []
    },
    {
      "cell_type": "code",
      "metadata": {
        "id": "W-4txkoJ8guS"
      },
      "source": [
        "from sklearn.model_selection import train_test_split\n",
        "dt=dataset['default payment next month'].values\n",
        "dt1=dataset[['SEX','EDUCATION']].values\n",
        "X_train, X_test, y_train, y_test = train_test_split(dt1, dt, test_size=0.3, random_state=42)"
      ],
      "execution_count": 22,
      "outputs": []
    },
    {
      "cell_type": "markdown",
      "metadata": {
        "id": "bzRAwe3LxheQ"
      },
      "source": [
        "# First Structure"
      ]
    },
    {
      "cell_type": "code",
      "metadata": {
        "id": "NuSiNA3SxheQ"
      },
      "source": [
        "classifier = Sequential()\n",
        "#First Layer\n",
        "classifier.add(Dense(4,activation='relu', kernel_initializer='random_normal', input_dim=2))\n",
        "#Second  Hidden Layer\n",
        "classifier.add(Dense(4, activation='relu', kernel_initializer='random_normal'))\n",
        "#Third Hidden Layer\n",
        "classifier.add(Dense(4, activation='relu', kernel_initializer='random_normal'))\n",
        "#Fourth Hidden Layer\n",
        "classifier.add(Dense(4, activation='relu', kernel_initializer='random_normal'))\n",
        "#Fifth Hidden Layer\n",
        "classifier.add(Dense(4, activation='relu', kernel_initializer='random_normal'))\n",
        "#Sixth Output Layer\n",
        "classifier.add(Dense(1, activation='sigmoid', kernel_initializer='random_normal'))"
      ],
      "execution_count": 23,
      "outputs": []
    },
    {
      "cell_type": "code",
      "metadata": {
        "id": "2H-cv2gjxheQ"
      },
      "source": [
        "classifier.compile(optimizer ='adam',loss='binary_crossentropy', metrics =['accuracy'])"
      ],
      "execution_count": 24,
      "outputs": []
    },
    {
      "cell_type": "code",
      "metadata": {
        "id": "IhqOgwT3xheQ"
      },
      "source": [
        "import time\n",
        "t0=time.time()"
      ],
      "execution_count": 25,
      "outputs": []
    },
    {
      "cell_type": "code",
      "metadata": {
        "id": "xqu25RJXxheQ",
        "colab": {
          "base_uri": "https://localhost:8080/"
        },
        "outputId": "39c473ef-fd51-418e-e384-51abe86494cb"
      },
      "source": [
        "classifier.fit(X_train,y_train, batch_size=32, epochs=20)"
      ],
      "execution_count": 26,
      "outputs": [
        {
          "output_type": "stream",
          "text": [
            "Epoch 1/20\n",
            "648/648 [==============================] - 2s 3ms/step - loss: 0.6278 - accuracy: 0.7788\n",
            "Epoch 2/20\n",
            "648/648 [==============================] - 2s 3ms/step - loss: 0.5562 - accuracy: 0.7788\n",
            "Epoch 3/20\n",
            "648/648 [==============================] - 2s 3ms/step - loss: 0.5345 - accuracy: 0.7788\n",
            "Epoch 4/20\n",
            "648/648 [==============================] - 2s 3ms/step - loss: 0.5295 - accuracy: 0.7788\n",
            "Epoch 5/20\n",
            "648/648 [==============================] - 2s 3ms/step - loss: 0.5285 - accuracy: 0.7788\n",
            "Epoch 6/20\n",
            "648/648 [==============================] - 2s 3ms/step - loss: 0.5284 - accuracy: 0.7788\n",
            "Epoch 7/20\n",
            "648/648 [==============================] - 2s 3ms/step - loss: 0.5285 - accuracy: 0.7788\n",
            "Epoch 8/20\n",
            "648/648 [==============================] - 2s 3ms/step - loss: 0.5284 - accuracy: 0.7788\n",
            "Epoch 9/20\n",
            "648/648 [==============================] - 2s 3ms/step - loss: 0.5284 - accuracy: 0.7788\n",
            "Epoch 10/20\n",
            "648/648 [==============================] - 2s 3ms/step - loss: 0.5284 - accuracy: 0.7788\n",
            "Epoch 11/20\n",
            "648/648 [==============================] - 2s 3ms/step - loss: 0.5284 - accuracy: 0.7788\n",
            "Epoch 12/20\n",
            "648/648 [==============================] - 2s 3ms/step - loss: 0.5284 - accuracy: 0.7788\n",
            "Epoch 13/20\n",
            "648/648 [==============================] - 2s 3ms/step - loss: 0.5284 - accuracy: 0.7788\n",
            "Epoch 14/20\n",
            "648/648 [==============================] - 2s 3ms/step - loss: 0.5284 - accuracy: 0.7788\n",
            "Epoch 15/20\n",
            "648/648 [==============================] - 2s 3ms/step - loss: 0.5284 - accuracy: 0.7788\n",
            "Epoch 16/20\n",
            "648/648 [==============================] - 2s 3ms/step - loss: 0.5284 - accuracy: 0.7788\n",
            "Epoch 17/20\n",
            "648/648 [==============================] - 2s 3ms/step - loss: 0.5284 - accuracy: 0.7788\n",
            "Epoch 18/20\n",
            "648/648 [==============================] - 2s 3ms/step - loss: 0.5284 - accuracy: 0.7788\n",
            "Epoch 19/20\n",
            "648/648 [==============================] - 2s 3ms/step - loss: 0.5284 - accuracy: 0.7788\n",
            "Epoch 20/20\n",
            "648/648 [==============================] - 2s 3ms/step - loss: 0.5284 - accuracy: 0.7788\n"
          ],
          "name": "stdout"
        },
        {
          "output_type": "execute_result",
          "data": {
            "text/plain": [
              "<tensorflow.python.keras.callbacks.History at 0x7f2d42d96dd8>"
            ]
          },
          "metadata": {
            "tags": []
          },
          "execution_count": 26
        }
      ]
    },
    {
      "cell_type": "code",
      "metadata": {
        "id": "BaPxvA3vxheQ"
      },
      "source": [
        "t1=time.time()"
      ],
      "execution_count": 27,
      "outputs": []
    },
    {
      "cell_type": "code",
      "metadata": {
        "id": "I8S0IZQDxheQ",
        "colab": {
          "base_uri": "https://localhost:8080/"
        },
        "outputId": "33b1f597-4d38-48a2-8eec-ed636e351a0b"
      },
      "source": [
        "print(\"Training time:\" , t1-t0)"
      ],
      "execution_count": 28,
      "outputs": [
        {
          "output_type": "stream",
          "text": [
            "Training time: 37.70200800895691\n"
          ],
          "name": "stdout"
        }
      ]
    },
    {
      "cell_type": "markdown",
      "metadata": {
        "id": "87UK3WIZ8sKr"
      },
      "source": [
        "# Second Structure"
      ]
    },
    {
      "cell_type": "code",
      "metadata": {
        "id": "ALuexcmTxheQ"
      },
      "source": [
        "classifier = Sequential()\n",
        "#First Layer\n",
        "classifier.add(Dense(12, activation='tanh', kernel_initializer='random_normal', input_dim=2))\n",
        "#Second  Hidden Layer\n",
        "classifier.add(Dense(12, activation='tanh', kernel_initializer='random_normal'))\n",
        "#Third Hidden Layer\n",
        "classifier.add(Dense(12, activation='tanh', kernel_initializer='random_normal'))\n",
        "#Fourth Hidden Layer\n",
        "classifier.add(Dense(12, activation='tanh', kernel_initializer='random_normal'))\n",
        "#Fifth Hidden Layer\n",
        "classifier.add(Dense(12, activation='tanh', kernel_initializer='random_normal'))\n",
        "#Sixth Hidden Layer\n",
        "classifier.add(Dense(12, activation='tanh', kernel_initializer='random_normal'))\n",
        "#Seventh Output Layer\n",
        "classifier.add(Dense(1, activation='tanh', kernel_initializer='random_normal'))"
      ],
      "execution_count": 29,
      "outputs": []
    },
    {
      "cell_type": "code",
      "metadata": {
        "id": "yOZ8WJ90xheQ"
      },
      "source": [
        "classifier.compile(optimizer ='adam',loss='binary_crossentropy', metrics =['accuracy'])"
      ],
      "execution_count": 30,
      "outputs": []
    },
    {
      "cell_type": "code",
      "metadata": {
        "id": "9yk8TRSTxheQ"
      },
      "source": [
        "t0=time.time()"
      ],
      "execution_count": 31,
      "outputs": []
    },
    {
      "cell_type": "code",
      "metadata": {
        "id": "mq2FT5A5xheQ",
        "colab": {
          "base_uri": "https://localhost:8080/"
        },
        "outputId": "6c130c11-b6a9-4c2c-c646-4dc8ef5b4b0a"
      },
      "source": [
        "classifier.fit(X_train,y_train, batch_size=32, epochs=20)"
      ],
      "execution_count": 32,
      "outputs": [
        {
          "output_type": "stream",
          "text": [
            "Epoch 1/20\n",
            "648/648 [==============================] - 2s 3ms/step - loss: 0.6190 - accuracy: 0.7788\n",
            "Epoch 2/20\n",
            "648/648 [==============================] - 2s 3ms/step - loss: 0.5282 - accuracy: 0.7788\n",
            "Epoch 3/20\n",
            "648/648 [==============================] - 2s 3ms/step - loss: 0.5283 - accuracy: 0.7788\n",
            "Epoch 4/20\n",
            "648/648 [==============================] - 2s 3ms/step - loss: 0.5276 - accuracy: 0.7788\n",
            "Epoch 5/20\n",
            "648/648 [==============================] - 2s 3ms/step - loss: 0.5280 - accuracy: 0.7788\n",
            "Epoch 6/20\n",
            "648/648 [==============================] - 2s 3ms/step - loss: 0.5274 - accuracy: 0.7788\n",
            "Epoch 7/20\n",
            "648/648 [==============================] - 2s 3ms/step - loss: 0.5273 - accuracy: 0.7788\n",
            "Epoch 8/20\n",
            "648/648 [==============================] - 2s 3ms/step - loss: 0.5277 - accuracy: 0.7788\n",
            "Epoch 9/20\n",
            "648/648 [==============================] - 2s 3ms/step - loss: 0.5277 - accuracy: 0.7788\n",
            "Epoch 10/20\n",
            "648/648 [==============================] - 2s 3ms/step - loss: 0.5278 - accuracy: 0.7788\n",
            "Epoch 11/20\n",
            "648/648 [==============================] - 2s 3ms/step - loss: 0.5276 - accuracy: 0.7788\n",
            "Epoch 12/20\n",
            "648/648 [==============================] - 2s 3ms/step - loss: 0.5274 - accuracy: 0.7788\n",
            "Epoch 13/20\n",
            "648/648 [==============================] - 2s 3ms/step - loss: 0.5276 - accuracy: 0.7788\n",
            "Epoch 14/20\n",
            "648/648 [==============================] - 2s 3ms/step - loss: 0.5270 - accuracy: 0.7788\n",
            "Epoch 15/20\n",
            "648/648 [==============================] - 2s 3ms/step - loss: 0.5271 - accuracy: 0.7788\n",
            "Epoch 16/20\n",
            "648/648 [==============================] - 2s 3ms/step - loss: 0.5274 - accuracy: 0.7788\n",
            "Epoch 17/20\n",
            "648/648 [==============================] - 2s 3ms/step - loss: 0.5273 - accuracy: 0.7788\n",
            "Epoch 18/20\n",
            "648/648 [==============================] - 2s 3ms/step - loss: 0.5269 - accuracy: 0.7788\n",
            "Epoch 19/20\n",
            "648/648 [==============================] - 2s 3ms/step - loss: 0.5271 - accuracy: 0.7788\n",
            "Epoch 20/20\n",
            "648/648 [==============================] - 2s 3ms/step - loss: 0.5271 - accuracy: 0.7788\n"
          ],
          "name": "stdout"
        },
        {
          "output_type": "execute_result",
          "data": {
            "text/plain": [
              "<tensorflow.python.keras.callbacks.History at 0x7f2d4135def0>"
            ]
          },
          "metadata": {
            "tags": []
          },
          "execution_count": 32
        }
      ]
    },
    {
      "cell_type": "code",
      "metadata": {
        "id": "Ft0IqK9ExheQ"
      },
      "source": [
        "t1=time.time()"
      ],
      "execution_count": 33,
      "outputs": []
    },
    {
      "cell_type": "code",
      "metadata": {
        "id": "k5Bjeve_9AfH",
        "colab": {
          "base_uri": "https://localhost:8080/"
        },
        "outputId": "7d05039e-33ad-4a16-d836-64b074d22c33"
      },
      "source": [
        "print(\"Training time:\" , t1-t0)"
      ],
      "execution_count": 34,
      "outputs": [
        {
          "output_type": "stream",
          "text": [
            "Training time: 36.79827928543091\n"
          ],
          "name": "stdout"
        }
      ]
    },
    {
      "cell_type": "markdown",
      "metadata": {
        "id": "6nKE1WAh9EUB"
      },
      "source": [
        "# Third Structure"
      ]
    },
    {
      "cell_type": "code",
      "metadata": {
        "id": "oKMnZPx39AiJ"
      },
      "source": [
        "classifier = Sequential()\n",
        "#First Layer\n",
        "classifier.add(Dense(24, activation='softmax', kernel_initializer='random_normal', input_dim=2))\n",
        "#Second  Hidden Layer\n",
        "classifier.add(Dense(24, activation='softmax', kernel_initializer='random_normal'))\n",
        "#Third Hidden Layer\n",
        "classifier.add(Dense(24, activation='softmax', kernel_initializer='random_normal'))\n",
        "#Fourth Hidden Layer\n",
        "classifier.add(Dense(24, activation='softmax', kernel_initializer='random_normal'))\n",
        "#Fifth Hidden Layer\n",
        "classifier.add(Dense(24, activation='tanh', kernel_initializer='random_normal'))\n",
        "#Sixth Output Layer\n",
        "classifier.add(Dense(1, activation='softmax', kernel_initializer='random_normal'))"
      ],
      "execution_count": 35,
      "outputs": []
    },
    {
      "cell_type": "code",
      "metadata": {
        "id": "1FBvVzmw9Apz"
      },
      "source": [
        "classifier.compile(optimizer ='adam',loss='binary_crossentropy', metrics =['accuracy'])"
      ],
      "execution_count": 36,
      "outputs": []
    },
    {
      "cell_type": "code",
      "metadata": {
        "id": "SRrigSpD9An2"
      },
      "source": [
        "t0=time.time()"
      ],
      "execution_count": 37,
      "outputs": []
    },
    {
      "cell_type": "code",
      "metadata": {
        "id": "dLfOloEJ9Amb",
        "colab": {
          "base_uri": "https://localhost:8080/"
        },
        "outputId": "9f600a6f-1d5a-415f-c62b-f67ed49abe9f"
      },
      "source": [
        "classifier.fit(X_train,y_train, batch_size=32, epochs=20)"
      ],
      "execution_count": 38,
      "outputs": [
        {
          "output_type": "stream",
          "text": [
            "Epoch 1/20\n",
            "648/648 [==============================] - 2s 3ms/step - loss: 11.8763 - accuracy: 0.2212\n",
            "Epoch 2/20\n",
            "648/648 [==============================] - 2s 3ms/step - loss: 11.8764 - accuracy: 0.2212\n",
            "Epoch 3/20\n",
            "648/648 [==============================] - 2s 3ms/step - loss: 11.8764 - accuracy: 0.2212\n",
            "Epoch 4/20\n",
            "648/648 [==============================] - 2s 3ms/step - loss: 11.8764 - accuracy: 0.2212\n",
            "Epoch 5/20\n",
            "648/648 [==============================] - 2s 3ms/step - loss: 11.8764 - accuracy: 0.2212\n",
            "Epoch 6/20\n",
            "648/648 [==============================] - 2s 3ms/step - loss: 11.8763 - accuracy: 0.2212\n",
            "Epoch 7/20\n",
            "648/648 [==============================] - 2s 3ms/step - loss: 11.8764 - accuracy: 0.2212\n",
            "Epoch 8/20\n",
            "648/648 [==============================] - 2s 3ms/step - loss: 11.8763 - accuracy: 0.2212\n",
            "Epoch 9/20\n",
            "648/648 [==============================] - 2s 3ms/step - loss: 11.8763 - accuracy: 0.2212\n",
            "Epoch 10/20\n",
            "648/648 [==============================] - 2s 3ms/step - loss: 11.8764 - accuracy: 0.2212\n",
            "Epoch 11/20\n",
            "648/648 [==============================] - 2s 3ms/step - loss: 11.8764 - accuracy: 0.2212\n",
            "Epoch 12/20\n",
            "648/648 [==============================] - 2s 3ms/step - loss: 11.8764 - accuracy: 0.2212\n",
            "Epoch 13/20\n",
            "648/648 [==============================] - 2s 3ms/step - loss: 11.8763 - accuracy: 0.2212\n",
            "Epoch 14/20\n",
            "648/648 [==============================] - 2s 3ms/step - loss: 11.8764 - accuracy: 0.2212\n",
            "Epoch 15/20\n",
            "648/648 [==============================] - 2s 3ms/step - loss: 11.8764 - accuracy: 0.2212\n",
            "Epoch 16/20\n",
            "648/648 [==============================] - 2s 3ms/step - loss: 11.8764 - accuracy: 0.2212\n",
            "Epoch 17/20\n",
            "648/648 [==============================] - 2s 3ms/step - loss: 11.8763 - accuracy: 0.2212\n",
            "Epoch 18/20\n",
            "648/648 [==============================] - 2s 3ms/step - loss: 11.8764 - accuracy: 0.2212\n",
            "Epoch 19/20\n",
            "648/648 [==============================] - 2s 3ms/step - loss: 11.8763 - accuracy: 0.2212\n",
            "Epoch 20/20\n",
            "648/648 [==============================] - 2s 3ms/step - loss: 11.8764 - accuracy: 0.2212\n"
          ],
          "name": "stdout"
        },
        {
          "output_type": "execute_result",
          "data": {
            "text/plain": [
              "<tensorflow.python.keras.callbacks.History at 0x7f2d411f1828>"
            ]
          },
          "metadata": {
            "tags": []
          },
          "execution_count": 38
        }
      ]
    },
    {
      "cell_type": "code",
      "metadata": {
        "id": "mQ7Ec0A49Acx"
      },
      "source": [
        "t1=time.time()"
      ],
      "execution_count": 39,
      "outputs": []
    },
    {
      "cell_type": "code",
      "metadata": {
        "id": "nAOdT4aM9OAK",
        "colab": {
          "base_uri": "https://localhost:8080/"
        },
        "outputId": "bf124cf4-9995-4b85-d894-1a63710e8f48"
      },
      "source": [
        "print(\"Training time:\" , t1-t0)"
      ],
      "execution_count": 40,
      "outputs": [
        {
          "output_type": "stream",
          "text": [
            "Training time: 37.50296998023987\n"
          ],
          "name": "stdout"
        }
      ]
    },
    {
      "cell_type": "markdown",
      "metadata": {
        "id": "WCHcOP7n-V-_"
      },
      "source": [
        "# Extra credit Discussion\n",
        " We can see that the training time taken by CPU is around half the time taken by GPU. As while runnning for small netural network the GPU tries to wotk on parallel layer and while creating those, it slows down the execution process. If we have neural network with more hidden layers then we will be able to see drastic execution speed in case in GPU<br>\n",
        "CPU - <br>\n",
        "First Structure:13.2556893825531 s<br>\n",
        "Second Structure:13.550551652908325 s<br>\n",
        "Third Structure:17.300453186035156 s<br>\n",
        "GPU - <br>\n",
        "First Structure:37.70200800895691 s<br>\n",
        "Second Structure:36.79827928543091 s<br>\n",
        "Third Structure:37.50296998023987 s<br>"
      ]
    },
    {
      "cell_type": "code",
      "metadata": {
        "id": "4SAzqZGJEZjc"
      },
      "source": [
        ""
      ],
      "execution_count": null,
      "outputs": []
    }
  ]
}